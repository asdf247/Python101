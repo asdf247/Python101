{
 "cells": [
  {
   "cell_type": "code",
   "execution_count": null,
   "metadata": {},
   "outputs": [],
   "source": [
    "import threading\n",
    "import time\n",
    "import random"
   ]
  },
  {
   "cell_type": "code",
   "execution_count": null,
   "metadata": {},
   "outputs": [],
   "source": [
    "def f():\n",
    "    i = random.randint(0,10)\n",
    "    time.sleep(100)\n",
    "    print('Thread input ', i, '\\n')\n",
    "    print('Thread function',i ** 2, '\\n')\n",
    "    return\n",
    " \n",
    "for i in range(5):\n",
    "    t = threading.Thread(target=f)\n",
    "    t.start()"
   ]
  },
  {
   "cell_type": "code",
   "execution_count": null,
   "metadata": {},
   "outputs": [],
   "source": [
    "def f(i):\n",
    "    for p in range(3):\n",
    "        time.sleep(i+1)\n",
    "        print('Thread #',i,\"\\n\")\n",
    "        time.sleep(i)\n",
    "    return\n",
    " \n",
    "# start threads by passing function to Thread constructor\n",
    "for i in range(3):\n",
    "    t = threading.Thread(target=f, args=(i,))\n",
    "    t.start()"
   ]
  },
  {
   "cell_type": "code",
   "execution_count": 5,
   "metadata": {},
   "outputs": [],
   "source": [
    "from statistics import mean"
   ]
  },
  {
   "cell_type": "code",
   "execution_count": 6,
   "metadata": {},
   "outputs": [
    {
     "name": "stdout",
     "output_type": "stream",
     "text": [
      "[ Sun Jul 14 20:09:27 2019 ] Thread#1 True\n",
      "[ Sun Jul 14 20:09:27 2019 ] Thread#2 True\n",
      "[ Sun Jul 14 20:09:28 2019 ] Thread#1 True\n",
      "[ Sun Jul 14 20:09:28 2019 ] Thread#2 True\n",
      "[ Sun Jul 14 20:09:29 2019 ] Thread#1 True\n",
      "[ Sun Jul 14 20:09:29 2019 ] Thread#2 True\n",
      "[ Sun Jul 14 20:09:30 2019 ] Thread#1 True\n",
      "[ Sun Jul 14 20:09:30 2019 ] Thread#2 True\n",
      "[ Sun Jul 14 20:09:32 2019 ] Thread#1 True\n",
      "[ Sun Jul 14 20:09:32 2019 ] Thread#2 True\n",
      "50.599136\n",
      "50.580868\n",
      "[ Sun Jul 14 20:09:35 2019 ] Thread#1 False\n",
      "[ Sun Jul 14 20:09:35 2019 ] Thread#2 False\n",
      "[ Sun Jul 14 20:09:38 2019 ] Thread#1 False\n",
      "[ Sun Jul 14 20:09:38 2019 ] Thread#2 False\n",
      "[ Sun Jul 14 20:09:41 2019 ] Thread#1 False\n",
      "[ Sun Jul 14 20:09:41 2019 ] Thread#2 False\n",
      "[ Sun Jul 14 20:09:45 2019 ] Thread#1 False\n",
      "[ Sun Jul 14 20:09:45 2019 ] Thread#2 False\n",
      "[ Sun Jul 14 20:09:50 2019 ] Thread#1 False\n",
      "[ Sun Jul 14 20:09:50 2019 ] Thread#2 False\n"
     ]
    }
   ],
   "source": [
    "def f(input_list):\n",
    "    time.sleep(5)\n",
    "    print(mean(input_list))\n",
    "\n",
    "x1 = [random.randint(1,100) for i in range(250000)]\n",
    "x2 = [random.randint(1,100) for i in range(250000)]\n",
    "\n",
    "# threads\n",
    "t1 = threading.Thread(target=f, args=(x1,), name=\"Thread#1\")\n",
    "t1.start()\n",
    " \n",
    "t2 = threading.Thread(target=f, args=(x2,), name=\"Thread#2\")\n",
    "t2.start()\n",
    " \n",
    "for p in range(10):\n",
    "    time.sleep(p*0.5)\n",
    "    print('[',time.ctime(),']', t1.getName(), t1.is_alive())\n",
    "    print('[',time.ctime(),']', t2.getName(), t2.is_alive())"
   ]
  },
  {
   "cell_type": "code",
   "execution_count": null,
   "metadata": {},
   "outputs": [],
   "source": [
    "x1 = [random.randint(1,100) for i in range(25)]"
   ]
  },
  {
   "cell_type": "code",
   "execution_count": null,
   "metadata": {},
   "outputs": [],
   "source": [
    "x1"
   ]
  },
  {
   "cell_type": "code",
   "execution_count": null,
   "metadata": {},
   "outputs": [],
   "source": []
  }
 ],
 "metadata": {
  "kernelspec": {
   "display_name": "Python 3",
   "language": "python",
   "name": "python3"
  },
  "language_info": {
   "codemirror_mode": {
    "name": "ipython",
    "version": 3
   },
   "file_extension": ".py",
   "mimetype": "text/x-python",
   "name": "python",
   "nbconvert_exporter": "python",
   "pygments_lexer": "ipython3",
   "version": "3.7.3"
  }
 },
 "nbformat": 4,
 "nbformat_minor": 2
}
