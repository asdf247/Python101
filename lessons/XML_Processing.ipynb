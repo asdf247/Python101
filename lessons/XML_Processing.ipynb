{
 "cells": [
  {
   "cell_type": "markdown",
   "metadata": {},
   "source": [
    "<?xml version=\"1.0\" encoding=\"UTF-8\" ?>\n",
    " \n",
    "<holidays year=\"2017\">\n",
    "    <holiday type=\"other\">\n",
    "        <date>Jan 1</date>\n",
    "        <name>New Year</name>\n",
    "    </holiday>\n",
    "    <holiday type=\"public\">\n",
    "        <date>Oct 2</date>\n",
    "        <name>Gandhi Jayanti</name>\n",
    "    </holiday>\n",
    "</holidays>"
   ]
  },
  {
   "cell_type": "code",
   "execution_count": 3,
   "metadata": {},
   "outputs": [
    {
     "name": "stdout",
     "output_type": "stream",
     "text": [
      "holidays\n"
     ]
    }
   ],
   "source": [
    "# Python XML Parsing\n",
    "import xml.etree.ElementTree as ET\n",
    "root = ET.parse('sample.xml').getroot()\n",
    "tag = root.tag\n",
    "print(tag)"
   ]
  },
  {
   "cell_type": "code",
   "execution_count": 4,
   "metadata": {},
   "outputs": [
    {
     "name": "stdout",
     "output_type": "stream",
     "text": [
      "{'year': '2017'}\n"
     ]
    }
   ],
   "source": [
    "# get all attributes\n",
    "attributes = root.attrib\n",
    "print(attributes)"
   ]
  },
  {
   "cell_type": "code",
   "execution_count": 6,
   "metadata": {},
   "outputs": [
    {
     "name": "stdout",
     "output_type": "stream",
     "text": [
      "year :  2017\n"
     ]
    }
   ],
   "source": [
    "# extract a particular attribute\n",
    "year = attributes.get('year')\n",
    "print('year : ',year)"
   ]
  },
  {
   "cell_type": "code",
   "execution_count": 7,
   "metadata": {},
   "outputs": [
    {
     "name": "stdout",
     "output_type": "stream",
     "text": [
      "<Element 'holiday' at 0x00000269B2D29778>\n",
      "<Element 'holiday' at 0x00000269B2D298B8>\n"
     ]
    }
   ],
   "source": [
    "# iterate over all the nodes with tag name - holiday\n",
    "for holiday in root.findall('holiday'):\n",
    "    print(holiday)"
   ]
  },
  {
   "cell_type": "code",
   "execution_count": 8,
   "metadata": {},
   "outputs": [
    {
     "name": "stdout",
     "output_type": "stream",
     "text": [
      "{'type': 'other'}\n",
      "other\n",
      "{'type': 'public'}\n",
      "public\n"
     ]
    }
   ],
   "source": [
    "# iterate over child nodes\n",
    "for holiday in root.findall('holiday'):\n",
    " \n",
    "    # get all attributes of a node\n",
    "    attributes = holiday.attrib\n",
    "    print(attributes)\n",
    " \n",
    "    # get a particular attribute\n",
    "    attr_type = attributes.get('type')\n",
    "    print(attr_type)"
   ]
  },
  {
   "cell_type": "code",
   "execution_count": 9,
   "metadata": {},
   "outputs": [
    {
     "name": "stdout",
     "output_type": "stream",
     "text": [
      "name :  New Year\n",
      "date :  Jan 1\n",
      "name :  Gandhi Jayanti\n",
      "date :  Oct 2\n"
     ]
    }
   ],
   "source": [
    "for holiday in root.findall('holiday'):\n",
    " \n",
    "    # access element - name\n",
    "    name = holiday.find('name').text\n",
    "    print('name : ', name)\n",
    " \n",
    "    # access element - date\n",
    "    date = holiday.find('date').text\n",
    "    print('date : ', date)"
   ]
  },
  {
   "cell_type": "code",
   "execution_count": null,
   "metadata": {},
   "outputs": [],
   "source": []
  }
 ],
 "metadata": {
  "kernelspec": {
   "display_name": "Python 3",
   "language": "python",
   "name": "python3"
  },
  "language_info": {
   "codemirror_mode": {
    "name": "ipython",
    "version": 3
   },
   "file_extension": ".py",
   "mimetype": "text/x-python",
   "name": "python",
   "nbconvert_exporter": "python",
   "pygments_lexer": "ipython3",
   "version": "3.7.3"
  }
 },
 "nbformat": 4,
 "nbformat_minor": 2
}
